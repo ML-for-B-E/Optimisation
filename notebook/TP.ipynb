{
 "cells": [
  {
   "cell_type": "code",
   "execution_count": null,
   "id": "ac6d5708",
   "metadata": {},
   "outputs": [],
   "source": [
    "import pandas as pd\n",
    "import numpy as np"
   ]
  },
  {
   "cell_type": "markdown",
   "id": "8f5d4b76",
   "metadata": {},
   "source": [
    "## 1. Classification par régression logistique\n",
    "\n",
    "- Ecriture de la fonction a minimiser\n",
    "\n",
    "On cherche à maximiser la vraisemblance du modèle pour les $N$ données observées,\n",
    "$$\\text{vraisemblance}(\\theta) = \\prod_{i=1}^N \\left[p(x^i;\\theta)^{y^i}\\times(1-p(x^i;\\theta))^{1-y^i}\\right]$$\n",
    "On en prend le log ce qui améliore le conditionnement numérique et revient au même pour l'optimisation car le log est une transformation monotone, elle ne change pas le lieu des minimums. \n",
    "On multiplie aussi par -1 pour passer de la maximisation à la minimisation,\n",
    "$$\n",
    "f(\\theta) = - \\sum_{i=1}^N \\left[ y^i \\log(p(x^i;\\theta)) + (1-y^i) (1-\\log(p(x^i;\\theta))) \\right]\n",
    "$$\n",
    "ou de façon plus lisible,\n",
    "$$\n",
    "f(\\theta) = - \\sum_{\\substack{i \\in (1,\\ldots,N)\\\\\\text{tel que }y^i=1}} \\log(p(x^i;\\theta)) -  \n",
    "\\sum_{\\substack{i \\in (1,\\ldots,N)\\\\\\text{tel que }y^i=0}} (1-\\log(p(x^i;\\theta)))\n",
    "$$"
   ]
  },
  {
   "cell_type": "code",
   "execution_count": null,
   "id": "f98fa2ad",
   "metadata": {},
   "outputs": [],
   "source": []
  },
  {
   "cell_type": "markdown",
   "id": "30e5f31f",
   "metadata": {},
   "source": [
    "## 2. Régression "
   ]
  },
  {
   "cell_type": "code",
   "execution_count": null,
   "id": "1180048f",
   "metadata": {},
   "outputs": [],
   "source": []
  }
 ],
 "metadata": {
  "kernelspec": {
   "display_name": "Python 3 (ipykernel)",
   "language": "python",
   "name": "python3"
  },
  "language_info": {
   "codemirror_mode": {
    "name": "ipython",
    "version": 3
   },
   "file_extension": ".py",
   "mimetype": "text/x-python",
   "name": "python",
   "nbconvert_exporter": "python",
   "pygments_lexer": "ipython3",
   "version": "3.9.7"
  }
 },
 "nbformat": 4,
 "nbformat_minor": 5
}
